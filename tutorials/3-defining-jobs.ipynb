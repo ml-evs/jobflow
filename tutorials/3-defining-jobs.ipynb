{
 "cells": [
  {
   "cell_type": "markdown",
   "id": "magnetic-cookie",
   "metadata": {},
   "source": [
    "# Defining jobs in jobflow\n",
    "\n",
    "In this tutorial, you will:\n",
    "\n",
    "- Learn about the `job` decorator.\n",
    "- Understand the structure of the `Job` object.\n",
    "- Set the configuration settings of a job.\n",
    "- Use the `Response` object.\n",
    "- Learn tips for writing job functions.\n",
    "\n",
    "The purpose of this tutorial is to delve into the basic functionality of jobs and gain a feeling for what is possible. Later tutorials will describe how to employ jobs in complex workflows.\n",
    "\n",
    "## Creating job objects\n",
    "\n",
    "The building block of jobflows are `Job` objects. Jobs are delayed calls to python functions whose outputs are stored in a database. The easiest way to create a job is using the `@job` decorator. The job decorator can be applied to any function, even those with optional parameters.\n"
   ]
  },
  {
   "cell_type": "code",
   "execution_count": 1,
   "id": "correct-torture",
   "metadata": {
    "nbsphinx": "hidden"
   },
   "outputs": [],
   "source": [
    "import warnings\n",
    "\n",
    "warnings.filterwarnings(\"ignore\", \"Using `tqdm.autonotebook.tqdm`\")"
   ]
  },
  {
   "cell_type": "code",
   "execution_count": 2,
   "id": "sweet-paragraph",
   "metadata": {},
   "outputs": [],
   "source": [
    "from jobflow import job\n",
    "\n",
    "\n",
    "@job\n",
    "def add(a, b, c=2):\n",
    "    return a + b + c"
   ]
  },
  {
   "cell_type": "markdown",
   "id": "competitive-theorem",
   "metadata": {},
   "source": [
    "Any call to the `add` function will return a `Job` object.\n"
   ]
  },
  {
   "cell_type": "code",
   "execution_count": 3,
   "id": "beneficial-authentication",
   "metadata": {},
   "outputs": [],
   "source": [
    "add_first = add(1, 2, c=5)"
   ]
  },
  {
   "cell_type": "markdown",
   "id": "necessary-skill",
   "metadata": {},
   "source": [
    "Each job is assigned a unique identifier (UUID).\n"
   ]
  },
  {
   "cell_type": "code",
   "execution_count": 4,
   "id": "rising-drama",
   "metadata": {},
   "outputs": [
    {
     "data": {
      "text/plain": [
       "'01eb0d89-3817-4bac-9897-9fb0ebeea2c7'"
      ]
     },
     "execution_count": 4,
     "metadata": {},
     "output_type": "execute_result"
    }
   ],
   "source": [
    "add_first.uuid"
   ]
  },
  {
   "cell_type": "markdown",
   "id": "fatal-bible",
   "metadata": {},
   "source": [
    "Jobs also have an index. This tracks the number of times the job has been \"replaced\" (replacing is covered in detail in the [Dynamic and nested Flows tutorial](dynamic-flows)).\n"
   ]
  },
  {
   "cell_type": "code",
   "execution_count": 5,
   "id": "disabled-strategy",
   "metadata": {},
   "outputs": [
    {
     "data": {
      "text/plain": [
       "1"
      ]
     },
     "execution_count": 5,
     "metadata": {},
     "output_type": "execute_result"
    }
   ],
   "source": [
    "add_first.index"
   ]
  },
  {
   "cell_type": "markdown",
   "id": "measured-communist",
   "metadata": {},
   "source": [
    "Jobs have outputs that can be accessed using the `output` attribute. As the job has not yet been executed, the output is currently a reference to the future output.\n"
   ]
  },
  {
   "cell_type": "code",
   "execution_count": 6,
   "id": "legendary-pursuit",
   "metadata": {},
   "outputs": [
    {
     "data": {
      "text/plain": [
       "OutputReference(01eb0d89-3817-4bac-9897-9fb0ebeea2c7)"
      ]
     },
     "execution_count": 6,
     "metadata": {},
     "output_type": "execute_result"
    }
   ],
   "source": [
    "add_first.output"
   ]
  },
  {
   "cell_type": "markdown",
   "id": "exceptional-twelve",
   "metadata": {},
   "source": [
    "The output of a job can be used as the input to another job.\n"
   ]
  },
  {
   "cell_type": "code",
   "execution_count": 7,
   "id": "sustained-buddy",
   "metadata": {},
   "outputs": [],
   "source": [
    "add_second = add(add_first.output, 3)"
   ]
  },
  {
   "cell_type": "markdown",
   "id": "remarkable-vocabulary",
   "metadata": {},
   "source": [
    "The output does not have to be an argument on its own, it can be included in a list or a dictionary.\n"
   ]
  },
  {
   "cell_type": "code",
   "execution_count": 8,
   "id": "conceptual-pipeline",
   "metadata": {},
   "outputs": [],
   "source": [
    "@job\n",
    "def sum_numbers(numbers):\n",
    "    return sum(numbers)\n",
    "\n",
    "\n",
    "sum_job = sum_numbers([add_first.output, add_second.output])"
   ]
  },
  {
   "cell_type": "markdown",
   "id": "ce86ac6e",
   "metadata": {},
   "source": [
    "## Running Jobs\n"
   ]
  },
  {
   "cell_type": "markdown",
   "id": "b2579acf",
   "metadata": {},
   "source": [
    "Here, we will demonstrate how to run a simple job locally, which can be useful for testing purposes.\n"
   ]
  },
  {
   "cell_type": "code",
   "execution_count": 9,
   "id": "312e5192",
   "metadata": {},
   "outputs": [
    {
     "name": "stdout",
     "output_type": "stream",
     "text": [
      "2023-06-08 10:09:44,084 INFO Started executing jobs locally\n",
      "2023-06-08 10:09:44,219 INFO Starting job - add (f43ad355-31b1-4e2c-a3fc-7159f180d662)\n",
      "2023-06-08 10:09:44,220 INFO Finished job - add (f43ad355-31b1-4e2c-a3fc-7159f180d662)\n",
      "2023-06-08 10:09:44,220 INFO Finished executing jobs locally\n"
     ]
    }
   ],
   "source": [
    "from jobflow.managers.local import run_locally\n",
    "\n",
    "response = run_locally(add(1,2))"
   ]
  },
  {
   "cell_type": "markdown",
   "id": "ecf2e7be",
   "metadata": {},
   "source": [
    "The output contains a UUID for the `job` along with its outputs.\n"
   ]
  },
  {
   "cell_type": "code",
   "execution_count": 10,
   "id": "d4e23f3c",
   "metadata": {},
   "outputs": [
    {
     "name": "stdout",
     "output_type": "stream",
     "text": [
      "{'f43ad355-31b1-4e2c-a3fc-7159f180d662': {1: Response(output=5, detour=None, addition=None, replace=None, stored_data=None, stop_children=False, stop_jobflow=False)}}\n"
     ]
    }
   ],
   "source": [
    "print(response)"
   ]
  }
 ],
 "metadata": {
  "kernelspec": {
   "display_name": "atomate2",
   "language": "python",
   "name": "atomate2"
  },
  "language_info": {
   "codemirror_mode": {
    "name": "ipython",
    "version": 3
   },
   "file_extension": ".py",
   "mimetype": "text/x-python",
   "name": "python",
   "nbconvert_exporter": "python",
   "pygments_lexer": "ipython3",
   "version": "3.9.6"
  }
 },
 "nbformat": 4,
 "nbformat_minor": 5
}
