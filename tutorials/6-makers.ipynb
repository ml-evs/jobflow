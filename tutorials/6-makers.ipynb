{
 "cells": [
  {
   "attachments": {},
   "cell_type": "markdown",
   "id": "1b3c4fe2",
   "metadata": {},
   "source": [
    "# Makers\n",
    "\n",
    "In this tutorial, you will:\n",
    "\n",
    "- Learn about `Maker`s.\n",
    "- Understand how to use a `Maker` to update the parameters of jobs in a flow.\n"
   ]
  },
  {
   "attachments": {},
   "cell_type": "markdown",
   "id": "802ff2c1",
   "metadata": {},
   "source": [
    "## What is a `Maker`?\n",
    "\n",
    "A `Maker` is class that makes it convenient to update parameters on-the-fly in a workflow. It is best explained by example.\n",
    "\n",
    "Let's start by defining a simple `Maker` that either adds or multiplies two numbers together, which we will do twice to make a flow. Note that all classes inheriting from the `Maker` base class must have a `name` variable and a `make` method.\n"
   ]
  },
  {
   "cell_type": "code",
   "execution_count": 21,
   "id": "90a02b46",
   "metadata": {},
   "outputs": [],
   "source": [
    "import warnings\n",
    "\n",
    "warnings.filterwarnings(\"ignore\", \"Using `tqdm.autonotebook.tqdm`\")"
   ]
  },
  {
   "cell_type": "code",
   "execution_count": 22,
   "id": "cd240e6d",
   "metadata": {},
   "outputs": [
    {
     "name": "stdout",
     "output_type": "stream",
     "text": [
      "2023-06-07 23:15:21,769 INFO Started executing jobs locally\n",
      "2023-06-07 23:15:21,772 INFO Starting job - Add Maker (0dc27add-a3af-401e-9526-31476d89a175)\n",
      "2023-06-07 23:15:21,776 INFO Finished job - Add Maker (0dc27add-a3af-401e-9526-31476d89a175)\n",
      "2023-06-07 23:15:21,777 INFO Starting job - Add Maker (dbf82e6a-7f80-44ce-89a3-1d7ee0834ebd)\n",
      "2023-06-07 23:15:21,781 INFO Finished job - Add Maker (dbf82e6a-7f80-44ce-89a3-1d7ee0834ebd)\n",
      "2023-06-07 23:15:21,784 INFO Finished executing jobs locally\n"
     ]
    }
   ],
   "source": [
    "from dataclasses import dataclass\n",
    "from jobflow import job, Flow, Maker\n",
    "from jobflow.managers.local import run_locally\n",
    "\n",
    "@dataclass\n",
    "class AddMaker(Maker):\n",
    "    name: str = \"Add Maker\"\n",
    "    operation: str = \"add\"\n",
    "\n",
    "    @job\n",
    "    def make(self, a, b):\n",
    "        if self.operation == \"add\":\n",
    "            return a + b\n",
    "        elif self.operation == \"mult\":\n",
    "            return a * b\n",
    "        else:\n",
    "            raise ValueError(f\"Unknown operation: {self.operation}\")\n",
    "\n",
    "\n",
    "job1 = AddMaker().make(a=2, b=3)\n",
    "job2 = AddMaker().make(a=job1.output, b=4)\n",
    "\n",
    "flow = Flow([job1, job2])\n",
    "responses = run_locally(flow)"
   ]
  },
  {
   "cell_type": "code",
   "execution_count": 23,
   "id": "cd7236f8",
   "metadata": {},
   "outputs": [
    {
     "name": "stdout",
     "output_type": "stream",
     "text": [
      "0dc27add-a3af-401e-9526-31476d89a175 -> {1: Response(output=5, detour=None, addition=None, replace=None, stored_data=None, stop_children=False, stop_jobflow=False)}\n",
      "dbf82e6a-7f80-44ce-89a3-1d7ee0834ebd -> {1: Response(output=9, detour=None, addition=None, replace=None, stored_data=None, stop_children=False, stop_jobflow=False)}\n"
     ]
    }
   ],
   "source": [
    "for uuid, response in responses.items():\n",
    "    print(f\"{uuid} -> {response}\")"
   ]
  },
  {
   "attachments": {},
   "cell_type": "markdown",
   "id": "03f657b6",
   "metadata": {},
   "source": [
    "Right now, nothing particularly special has happened here. But what if you had a much more complex workflow with many steps and you wanted to change the `AddMaker` keyword arguments, but only for a few individual jobs in the flow? That's where the `Maker` comes in handy. Let's see how it works.\n"
   ]
  },
  {
   "cell_type": "code",
   "execution_count": 24,
   "id": "9546c42c",
   "metadata": {},
   "outputs": [],
   "source": [
    "from dataclasses import dataclass\n",
    "from jobflow import job, Flow, Maker\n",
    "from jobflow.managers.local import run_locally\n",
    "\n",
    "@dataclass\n",
    "class AddMaker(Maker):\n",
    "    name: str = \"Add Maker\"\n",
    "    operation: str = \"add\"\n",
    "\n",
    "    @job\n",
    "    def make(self, a, b):\n",
    "        if self.operation == \"add\":\n",
    "            return a + b\n",
    "        elif self.operation == \"mult\":\n",
    "            return a * b\n",
    "        else:\n",
    "            raise ValueError(f\"Unknown operation: {self.operation}\")\n",
    "\n",
    "@dataclass\n",
    "class SubtractMaker(Maker):\n",
    "    name: str = \"Subtract Maker\"\n",
    "\n",
    "    @job\n",
    "    def make(self, a, b):\n",
    "        return b - a\n",
    "\n",
    "job1 = AddMaker().make(a=2, b=3)\n",
    "job2 = SubtractMaker().make(a=job1.output, b=4)\n",
    "flow = Flow([job1, job2])"
   ]
  },
  {
   "cell_type": "code",
   "execution_count": 25,
   "id": "1b235d02",
   "metadata": {},
   "outputs": [
    {
     "name": "stdout",
     "output_type": "stream",
     "text": [
      "2023-06-07 23:15:22,081 INFO Started executing jobs locally\n",
      "2023-06-07 23:15:22,083 INFO Starting job - Add Maker (3a00f782-d462-4ece-afc1-878c393410a5)\n",
      "2023-06-07 23:15:22,084 INFO Finished job - Add Maker (3a00f782-d462-4ece-afc1-878c393410a5)\n",
      "2023-06-07 23:15:22,087 INFO Starting job - Subtract Maker (9bfbd1cb-a62f-48d6-ae86-ebf0e320922c)\n",
      "2023-06-07 23:15:22,089 INFO Finished job - Subtract Maker (9bfbd1cb-a62f-48d6-ae86-ebf0e320922c)\n",
      "2023-06-07 23:15:22,091 INFO Finished executing jobs locally\n"
     ]
    }
   ],
   "source": [
    "flow.update_maker_kwargs({\"operation\": \"mult\"}, name_filter=\"Add Maker\")\n",
    "responses = run_locally(flow)"
   ]
  },
  {
   "cell_type": "code",
   "execution_count": 26,
   "id": "150224de",
   "metadata": {},
   "outputs": [
    {
     "name": "stdout",
     "output_type": "stream",
     "text": [
      "3a00f782-d462-4ece-afc1-878c393410a5 -> {1: Response(output=6, detour=None, addition=None, replace=None, stored_data=None, stop_children=False, stop_jobflow=False)}\n",
      "9bfbd1cb-a62f-48d6-ae86-ebf0e320922c -> {1: Response(output=-2, detour=None, addition=None, replace=None, stored_data=None, stop_children=False, stop_jobflow=False)}\n"
     ]
    }
   ],
   "source": [
    "for uuid, response in responses.items():\n",
    "    print(f\"{uuid} -> {response}\")"
   ]
  },
  {
   "attachments": {},
   "cell_type": "markdown",
   "id": "1b0479a1",
   "metadata": {},
   "source": [
    "In this example, we have updated the keyword arguments (\"kwargs\") of jobs in a flow using a `name_filter` and the `update_maker_kwargs` function, which functions because the classes in the flow are themselves `Maker` objects.\n",
    "\n",
    "Of course, we could have simply done `job1 = AddMaker(operation=\"mult\").make(a=2, b=3)` to begin with, but in practice if you were to have instead impotred this flow from some external Python package, you might not be able to modify the `AddMaker` class directly. In this case, the `Maker` class provides a convenient way to update the parameters of jobs in a flow without having to redefine the flow itself.\n"
   ]
  }
 ],
 "metadata": {
  "kernelspec": {
   "display_name": "cms",
   "language": "python",
   "name": "python3"
  },
  "language_info": {
   "codemirror_mode": {
    "name": "ipython",
    "version": 3
   },
   "file_extension": ".py",
   "mimetype": "text/x-python",
   "name": "python",
   "nbconvert_exporter": "python",
   "pygments_lexer": "ipython3",
   "version": "3.9.16"
  }
 },
 "nbformat": 4,
 "nbformat_minor": 5
}
