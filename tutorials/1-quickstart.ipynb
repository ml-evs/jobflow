{
 "cells": [
  {
   "attachments": {},
   "cell_type": "markdown",
   "id": "streaming-newman",
   "metadata": {},
   "source": [
    "# Five-minute quickstart\n",
    "\n",
    "In this quickstart, you will:\n",
    "\n",
    "- Create some jobs.\n",
    "- Use the jobs in a Flow.\n",
    "- Run the Flow.\n",
    "- Examine the outputs of the Flow.\n",
    "- Get a flavor of the Python API\n",
    "\n",
    "This tutorial will emphasize \"hands-on\" usage of jobflow and not explain things in detail.\n",
    "\n",
    "## Define jobs\n",
    "\n",
    "The atomic building block of jobflows are jobs. Creating a job is as easy as writing a python function. All you need to do is use the `@job` decorator.\n"
   ]
  },
  {
   "cell_type": "code",
   "execution_count": 1,
   "id": "conservative-lithuania",
   "metadata": {
    "nbsphinx": "hidden"
   },
   "outputs": [],
   "source": [
    "import warnings\n",
    "\n",
    "warnings.filterwarnings(\"ignore\", \"Using `tqdm.autonotebook.tqdm`\")"
   ]
  },
  {
   "cell_type": "code",
   "execution_count": 2,
   "id": "promotional-tribute",
   "metadata": {},
   "outputs": [],
   "source": [
    "from jobflow import job\n",
    "\n",
    "\n",
    "@job\n",
    "def add(a, b):\n",
    "    return a + b"
   ]
  },
  {
   "attachments": {},
   "cell_type": "markdown",
   "id": "previous-aberdeen",
   "metadata": {},
   "source": [
    "Any call to the `add` function will return a `Job` object. This is essentially a function call that will be executed later.\n"
   ]
  },
  {
   "cell_type": "code",
   "execution_count": 3,
   "id": "latter-conviction",
   "metadata": {},
   "outputs": [],
   "source": [
    "add_first = add(1, 5)"
   ]
  },
  {
   "attachments": {},
   "cell_type": "markdown",
   "id": "frequent-forest",
   "metadata": {},
   "source": [
    "Jobs have outputs that can be accessed using the `output` attribute. As the job has not yet been executed, the output is currently a reference to the future output.\n"
   ]
  },
  {
   "cell_type": "code",
   "execution_count": 4,
   "id": "identified-protein",
   "metadata": {},
   "outputs": [
    {
     "data": {
      "text/plain": [
       "OutputReference(d33c87c7-9eae-4afc-858d-d207a820d55d)"
      ]
     },
     "execution_count": 4,
     "metadata": {},
     "output_type": "execute_result"
    }
   ],
   "source": [
    "add_first.output"
   ]
  },
  {
   "attachments": {},
   "cell_type": "markdown",
   "id": "center-traveler",
   "metadata": {},
   "source": [
    "The output of a job can be used as the input to another job.\n"
   ]
  },
  {
   "cell_type": "code",
   "execution_count": 5,
   "id": "physical-cooperation",
   "metadata": {},
   "outputs": [],
   "source": [
    "add_second = add(add_first.output, 3)"
   ]
  },
  {
   "attachments": {},
   "cell_type": "markdown",
   "id": "adequate-bradley",
   "metadata": {},
   "source": [
    "## Create a Flow\n",
    "\n",
    "A Flow is a collection of Jobs or other Flow objects. Let's create a Flow from the `add_first` and `add_second` jobs we just made:\n"
   ]
  },
  {
   "cell_type": "code",
   "execution_count": 6,
   "id": "completed-workplace",
   "metadata": {},
   "outputs": [],
   "source": [
    "from jobflow import Flow\n",
    "\n",
    "flow = Flow([add_first, add_second])"
   ]
  },
  {
   "attachments": {},
   "cell_type": "markdown",
   "id": "choice-nylon",
   "metadata": {},
   "source": [
    "The order of the jobs in the input array does not matter. Their execution order will be determined by their connectivity. Because `add_second` takes the output of `add_first` as an input, the `add_first` will always run before `add_second`.\n",
    "\n",
    "The connectivity of the jobs in a flow can be visualized using `draw_graph`. Note,\n",
    "you should install jobflow with the visualisation dependencies (`pip install\n",
    "jobflow[vis]`) to enable this feature. See the installation page for more details.\n"
   ]
  },
  {
   "cell_type": "code",
   "execution_count": 7,
   "id": "warming-amplifier",
   "metadata": {},
   "outputs": [
    {
     "data": {
      "image/png": "[encoded data removed]",
      "text/plain": [
       "<Figure size 300x300 with 1 Axes>"
      ]
     },
     "metadata": {},
     "output_type": "display_data"
    }
   ],
   "source": [
    "flow.draw_graph(figsize=(3, 3)).show()"
   ]
  },
  {
   "attachments": {},
   "cell_type": "markdown",
   "id": "6657bbd9-3482-4123-a914-1bb5900a19a1",
   "metadata": {},
   "source": [
    "Flows can also be visualised using [mermaid](https://mermaid.js.org). To generate the mermaid plotting syntax use the `to_mermaid` function.\n"
   ]
  },
  {
   "cell_type": "code",
   "execution_count": 8,
   "id": "8110d5a5-45bd-4daa-87bb-996a81e122aa",
   "metadata": {},
   "outputs": [
    {
     "ename": "ImportError",
     "evalue": "cannot import name 'to_mermaid' from 'jobflow.utils.graph' (c:\\Users\\asros\\miniconda3\\envs\\cms\\lib\\site-packages\\jobflow\\utils\\graph.py)",
     "output_type": "error",
     "traceback": [
      "\u001b[1;31m---------------------------------------------------------------------------\u001b[0m",
      "\u001b[1;31mImportError\u001b[0m                               Traceback (most recent call last)",
      "Cell \u001b[1;32mIn[8], line 1\u001b[0m\n\u001b[1;32m----> 1\u001b[0m \u001b[39mfrom\u001b[39;00m \u001b[39mjobflow\u001b[39;00m\u001b[39m.\u001b[39;00m\u001b[39mutils\u001b[39;00m\u001b[39m.\u001b[39;00m\u001b[39mgraph\u001b[39;00m \u001b[39mimport\u001b[39;00m to_mermaid\n\u001b[0;32m      3\u001b[0m \u001b[39mprint\u001b[39m(to_mermaid(flow))\n",
      "\u001b[1;31mImportError\u001b[0m: cannot import name 'to_mermaid' from 'jobflow.utils.graph' (c:\\Users\\asros\\miniconda3\\envs\\cms\\lib\\site-packages\\jobflow\\utils\\graph.py)"
     ]
    }
   ],
   "source": [
    "from jobflow.utils.graph import to_mermaid\n",
    "\n",
    "print(to_mermaid(flow))"
   ]
  },
  {
   "attachments": {},
   "cell_type": "markdown",
   "id": "12920251-878e-4562-b458-9f30acfe7711",
   "metadata": {},
   "source": [
    "The graph can be visualised by pasting the output into [GitHub](https://github.blog/2022-02-14-include-diagrams-markdown-files-mermaid/) or at [mermaid.live](https://mermaid.live).\n",
    "\n",
    "[![add flow](https://mermaid.ink/img/pako:eNpVTbluwzAU-xXjTS1gBbqvIVP-oJ0KL4qOJoBtGa6ENnX871WylRNJ8NjA5xDBQhrzt7-4tXTvp2HuGihmhGrmEWcpIu5lQGemAqJCSq8N91joFxfCa4fQ8Z5rWWq5d1j5sw-CIEZSaNUokSNBIaOMFlFw4ZJ8tqCHKa6Tu4b2vj0uByiXOMUBbKMhJlfHMsAw7y3qaslvt9mDLWuNPdQluBJPV_e5uglscuNXcxc3f-T8T4Pd4AcsJfTAmVSCY0KJVoL2cGs21QfOKVdcUUmwNHTv4fc5gQ_CKEEYlcw8EprtfzPzVns?type=png)](https://mermaid.live/edit#pako:eNpVTbluwzAU-xXjTS1gBbqvIVP-oJ0KL4qOJoBtGa6ENnX871WylRNJ8NjA5xDBQhrzt7-4tXTvp2HuGihmhGrmEWcpIu5lQGemAqJCSq8N91joFxfCa4fQ8Z5rWWq5d1j5sw-CIEZSaNUokSNBIaOMFlFw4ZJ8tqCHKa6Tu4b2vj0uByiXOMUBbKMhJlfHMsAw7y3qaslvt9mDLWuNPdQluBJPV_e5uglscuNXcxc3f-T8T4Pd4AcsJfTAmVSCY0KJVoL2cGs21QfOKVdcUUmwNHTv4fc5gQ_CKEEYlcw8EprtfzPzVns)\n"
   ]
  },
  {
   "attachments": {},
   "cell_type": "markdown",
   "id": "fiscal-composite",
   "metadata": {},
   "source": [
    "## Run the Flow\n"
   ]
  },
  {
   "attachments": {},
   "cell_type": "markdown",
   "id": "light-privacy",
   "metadata": {},
   "source": [
    "Jobflow supports running Flows locally or on remote clusters. Below we run the Flow locally using the `run_locally` function.\n",
    "\n",
    "<div class=\"alert alert-info\">\n",
    "**Note**\n",
    "<p>Running Flows on remote clusters can be achieved using the FireWorks package and is covered in the [ Running Jobflow with FireWorks tutorial](https://materialsproject.github.io/jobflow/tutorials/8-fireworks).</p>\n",
    "</div>\n"
   ]
  },
  {
   "cell_type": "code",
   "execution_count": null,
   "id": "black-berkeley",
   "metadata": {},
   "outputs": [
    {
     "name": "stdout",
     "output_type": "stream",
     "text": [
      "2023-05-06 17:57:51,031 INFO Started executing jobs locally\n",
      "2023-05-06 17:57:51,033 INFO Starting job - add (c923a1eb-af97-4a3e-9b19-c2ba36784177)\n",
      "2023-05-06 17:57:51,034 INFO Finished job - add (c923a1eb-af97-4a3e-9b19-c2ba36784177)\n",
      "2023-05-06 17:57:51,035 INFO Starting job - add (950de35f-2762-4dd1-bb76-57cbe09f82a3)\n",
      "2023-05-06 17:57:51,036 INFO Finished job - add (950de35f-2762-4dd1-bb76-57cbe09f82a3)\n",
      "2023-05-06 17:57:51,037 INFO Finished executing jobs locally\n"
     ]
    }
   ],
   "source": [
    "from jobflow.managers.local import run_locally\n",
    "\n",
    "responses = run_locally(flow)"
   ]
  },
  {
   "attachments": {},
   "cell_type": "markdown",
   "id": "falling-interface",
   "metadata": {},
   "source": [
    "The numbers in brackets after the job function name give the job unique identifier (UUID).\n"
   ]
  },
  {
   "attachments": {},
   "cell_type": "markdown",
   "id": "medium-today",
   "metadata": {},
   "source": [
    "## Examine Flow outputs\n"
   ]
  },
  {
   "attachments": {},
   "cell_type": "markdown",
   "id": "productive-belarus",
   "metadata": {},
   "source": [
    "The `run_locally` function returns the output of all jobs. The format of the output is:\n",
    "\n",
    "```python\n",
    "{\n",
    "    job_uuid: {\n",
    "        job_index: {\n",
    "            Response()\n",
    "        }\n",
    "    }\n",
    "}\n",
    "```\n",
    "\n",
    "The `job_index` and `Response()` objects are introduced in later tutorials. The main thing to know is that the Response contains the output of the Job and any other commands for controlling the Flow execution.\n"
   ]
  },
  {
   "cell_type": "code",
   "execution_count": null,
   "id": "hawaiian-entrance",
   "metadata": {},
   "outputs": [
    {
     "data": {
      "text/plain": [
       "{'c923a1eb-af97-4a3e-9b19-c2ba36784177': {1: Response(output=6, detour=None, addition=None, replace=None, stored_data=None, stop_children=False, stop_jobflow=False)},\n",
       " '950de35f-2762-4dd1-bb76-57cbe09f82a3': {1: Response(output=9, detour=None, addition=None, replace=None, stored_data=None, stop_children=False, stop_jobflow=False)}}"
      ]
     },
     "execution_count": 10,
     "metadata": {},
     "output_type": "execute_result"
    }
   ],
   "source": [
    "responses"
   ]
  },
  {
   "attachments": {},
   "cell_type": "markdown",
   "id": "studied-river",
   "metadata": {},
   "source": [
    "We can check the output of specific jobs using:\n"
   ]
  },
  {
   "cell_type": "code",
   "execution_count": null,
   "id": "connected-africa",
   "metadata": {},
   "outputs": [
    {
     "data": {
      "text/plain": [
       "6"
      ]
     },
     "execution_count": 11,
     "metadata": {},
     "output_type": "execute_result"
    }
   ],
   "source": [
    "responses[add_first.uuid][1].output"
   ]
  },
  {
   "attachments": {},
   "cell_type": "markdown",
   "id": "loving-cartridge",
   "metadata": {},
   "source": [
    "## Next steps\n",
    "\n",
    "Now that you’ve successfully run your first Flow, we encourage you to learn about all the different options jobflow provides for designing and running workflows. A good next step is the [Introductory tutorial](https://materialsproject.github.io/jobflow/tutorials/2-introduction.html), which covers things more slowly than this quickstart.\n"
   ]
  }
 ],
 "metadata": {
  "kernelspec": {
   "display_name": "cms",
   "language": "python",
   "name": "python3"
  },
  "language_info": {
   "codemirror_mode": {
    "name": "ipython",
    "version": 3
   },
   "file_extension": ".py",
   "mimetype": "text/x-python",
   "name": "python",
   "nbconvert_exporter": "python",
   "pygments_lexer": "ipython3",
   "version": "3.9.16"
  }
 },
 "nbformat": 4,
 "nbformat_minor": 5
}
