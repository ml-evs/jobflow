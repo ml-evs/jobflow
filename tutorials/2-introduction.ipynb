{
 "cells": [
  {
   "cell_type": "markdown",
   "id": "varied-livestock",
   "metadata": {},
   "source": [
    "# Introduction to jobflow\n",
    "\n",
    "In this tutorial, you will:\n",
    "\n",
    "- Create several jobs.\n",
    "- Combine the Jobs into a Flow.\n",
    "- Set up a JobStore - the primary database interface for jobflow.\n",
    "- Run a Flow using the custom store.\n",
    "- Examine the Flow outputs.\n",
    "\n",
    "The purpose of this tutorial is to introduce the main concepts of jobflow. It isn’t intended to demonstrate all the features of jobflow or explain things in great detail.\n",
    "\n",
    "## Creating job objects\n",
    "\n",
    "The building block of jobflows are `Job` objects. Jobs are delayed calls to python functions whose outputs are stored in a database. The easiest way to create a job is using the `@job` decorator which be applied to any function, even those with optional parameters.\n",
    "\n",
    "<div class=\"alert alert-info\">\n",
    "**Note**\n",
    "<p>jobflow encodes job outputs as json using the `MontyEncoder` feature of the `monty` package. This means that additional datatypes such as datetime objects, enums, and MSONable classes can also be serialized.</p>\n",
    "</div>\n",
    "\n",
    "Lets create a decorated function that times how long it takes to load a website.\n"
   ]
  },
  {
   "cell_type": "code",
   "execution_count": 1,
   "id": "beautiful-junction",
   "metadata": {
    "nbsphinx": "hidden"
   },
   "outputs": [],
   "source": [
    "import warnings\n",
    "\n",
    "warnings.filterwarnings(\"ignore\", \"Using `tqdm.autonotebook.tqdm`\")"
   ]
  },
  {
   "cell_type": "code",
   "execution_count": 2,
   "id": "exempt-potter",
   "metadata": {},
   "outputs": [],
   "source": [
    "from jobflow import job\n",
    "\n",
    "\n",
    "@job\n",
    "def time_website(website: str):\n",
    "    import urllib.request\n",
    "    from time import perf_counter\n",
    "\n",
    "    with urllib.request.urlopen(website) as f:\n",
    "        start_time = perf_counter()\n",
    "        f.read()\n",
    "        end_time = perf_counter()\n",
    "\n",
    "    return end_time - start_time"
   ]
  },
  {
   "cell_type": "markdown",
   "id": "critical-initial",
   "metadata": {},
   "source": [
    "Any call to the `time_website` function will return a `Job` object rather than executing the function.\n"
   ]
  },
  {
   "cell_type": "code",
   "execution_count": 3,
   "id": "pleased-virtue",
   "metadata": {},
   "outputs": [],
   "source": [
    "time_github = time_website(\"https://www.github.com\")\n",
    "time_google = time_website(\"https://www.google.com\")\n",
    "time_nyt = time_website(\"https://www.nytimes.com\")"
   ]
  },
  {
   "cell_type": "markdown",
   "id": "stable-island",
   "metadata": {},
   "source": [
    "Jobs have outputs that can be accessed using the `output` attribute. When a job runs, its outputs will be stored in the JobStore. As the job has not yet been executed, the output is currently a reference to the future output.\n"
   ]
  },
  {
   "cell_type": "code",
   "execution_count": 4,
   "id": "multiple-bailey",
   "metadata": {},
   "outputs": [
    {
     "data": {
      "text/plain": [
       "OutputReference(76f9fef1-e2c7-4ad7-b090-b9153866c582)"
      ]
     },
     "execution_count": 4,
     "metadata": {},
     "output_type": "execute_result"
    }
   ],
   "source": [
    "time_github.output"
   ]
  },
  {
   "cell_type": "markdown",
   "id": "ethical-organization",
   "metadata": {},
   "source": [
    "The output of a job can be used as an input to another job. To demonstrate this, let's create a new job function that will sum all its inputs.\n"
   ]
  },
  {
   "cell_type": "code",
   "execution_count": 5,
   "id": "roman-verse",
   "metadata": {},
   "outputs": [],
   "source": [
    "@job\n",
    "def sum_numbers(numbers):\n",
    "    return sum(numbers)\n",
    "\n",
    "\n",
    "sum_times = sum_numbers([time_github.output, time_google.output, time_nyt.output])"
   ]
  },
  {
   "cell_type": "markdown",
   "id": "chronic-hunter",
   "metadata": {},
   "source": [
    "Note, none of the jobs we have created have been executed. The idea of jobflow is to built up a series of (interconnected) jobs and run them at a later date.\n"
   ]
  },
  {
   "cell_type": "markdown",
   "id": "hungry-vienna",
   "metadata": {},
   "source": [
    "## Creating Flows\n",
    "\n",
    "A `Flow` is a collection of `Job`s or other `Flow` objects. Flows are the primary tool for defining workflows in jobflow. Let's create a Flow from the jobs we just made:\n"
   ]
  },
  {
   "cell_type": "code",
   "execution_count": 6,
   "id": "danish-indonesia",
   "metadata": {},
   "outputs": [],
   "source": [
    "from jobflow import Flow\n",
    "\n",
    "flow = Flow([time_github, time_google, time_nyt, sum_times])"
   ]
  },
  {
   "cell_type": "markdown",
   "id": "economic-priority",
   "metadata": {},
   "source": [
    "The order of the jobs in the input array does not matter. Their execution order will be determined by their connectivity. Because `sum_times` takes the output of `time_github` etc as an input, the timing jobs will always run first.\n",
    "\n",
    "The connectivity of the jobs in a flow can be visualized:\n"
   ]
  },
  {
   "cell_type": "code",
   "execution_count": 7,
   "id": "pharmaceutical-cuisine",
   "metadata": {},
   "outputs": [
    {
     "data": {
      "image/png": "[encoded data removed]",
      "text/plain": [
       "<Figure size 864x576 with 1 Axes>"
      ]
     },
     "metadata": {},
     "output_type": "display_data"
    }
   ],
   "source": [
    "flow.draw_graph().show()"
   ]
  },
  {
   "cell_type": "markdown",
   "id": "ecological-domain",
   "metadata": {},
   "source": [
    "Similar to Jobs, Flows can also have outputs, however, these are not explicitly stored in the database. Instead, the outputs of a Flow act to structure the outputs of the jobs contained within it.\n",
    "\n",
    "The Flow we just created does not have any outputs. We could instead \"register\" the output of the sum job as the output of the flow:\n",
    "\n",
    "```python\n",
    "flow = Flow(\n",
    "    jobs=[time_github, time_google, time_nyt, sum_times],\n",
    "    output=sum_times.output\n",
    ")\n",
    "```\n",
    "\n",
    "This would allow the Flow to be used in the input to a job. For example\n",
    "\n",
    "```python\n",
    "new_job = sum_times([flow.output, 10])\n",
    "```\n",
    "\n",
    "Note that the Flow output can be structured however you like. For example, you may wish to expose all the job outputs in the form of a dictionary.\n",
    "\n",
    "```python\n",
    "flow = Flow(\n",
    "    jobs=[time_github, time_google, time_nyt, sum_times],\n",
    "    output={\n",
    "        \"times\": [time_github.output, time_google.output, time_nyt.output],\n",
    "        \"sum\": sum_times.output\n",
    "    }\n",
    ")\n",
    "```\n",
    "\n",
    "When can then be used by subsequent jobs as:\n",
    "\n",
    "```python\n",
    "new_job = sum_numbers([flow.output[\"sum\"], 10])\n",
    "```\n"
   ]
  },
  {
   "cell_type": "markdown",
   "id": "unlike-essex",
   "metadata": {},
   "source": [
    "## Setting up the JobStore\n",
    "\n",
    "Anything returned by a `Job` will be stored in the `JobStore`, the primary database interface for jobflows.\n",
    "\n",
    "The `JobStore` is an implementation of the [Store](https://materialsproject.github.io/maggma/reference/stores/) interface provided by the [Maggma package](https://materialsproject.github.io/maggma/reference/stores/). Maggma provides implementations for a number of common databases including:\n",
    "\n",
    "- MongoDB ([MongoStore](https://materialsproject.github.io/maggma/reference/stores/#maggma.stores.mongolike.MongoStore))\n",
    "- GridFS ([GridFSStore](https://materialsproject.github.io/maggma/reference/stores/#maggma.stores.gridfs.GridFSStore))\n",
    "- AWS S3 ([S3Store](https://materialsproject.github.io/maggma/reference/stores/#maggma.stores.aws.S3Store))\n",
    "\n",
    "Jobflow allows you to store outputs in multiple stores — for example, small documents can be stored in a MongoDB database whereas large files can be stored in an S3 store.\n",
    "\n",
    "In this example we will use a single store type for all documents. In particular, we will use a special type of store called a `MemoryStore`. This means that any outputs are only stored in memory and not in an external database. For production workflows, we recommend using one of the permanent stores outlined above.\n",
    "\n",
    "First, we need to create the memory store that will function as the store for all outputs.\n"
   ]
  },
  {
   "cell_type": "code",
   "execution_count": 8,
   "id": "rough-retention",
   "metadata": {},
   "outputs": [],
   "source": [
    "from maggma.stores import MemoryStore\n",
    "\n",
    "docs_store = MemoryStore()"
   ]
  },
  {
   "cell_type": "markdown",
   "id": "ready-tsunami",
   "metadata": {},
   "source": [
    "Next we can initialize the JobStore with the memory store.\n"
   ]
  },
  {
   "cell_type": "code",
   "execution_count": 9,
   "id": "forty-addiction",
   "metadata": {},
   "outputs": [],
   "source": [
    "from jobflow import JobStore\n",
    "\n",
    "store = JobStore(docs_store)"
   ]
  },
  {
   "cell_type": "markdown",
   "id": "nervous-pressing",
   "metadata": {},
   "source": [
    "This type of JobStore (using a MemoryStore for all outputs) is the default store used by jobflow if a custom store is not set.\n"
   ]
  },
  {
   "cell_type": "markdown",
   "id": "perceived-leader",
   "metadata": {},
   "source": [
    "## Running the Flow\n",
    "\n",
    "Jobflow supports running Flows locally or on remote clusters. Below we run the Flow locally using the `run_locally` function using our custom store.\n",
    "\n",
    "<div class=\"alert alert-info\">\n",
    "**Note**\n",
    "<p>Running Flows on remote clusters can be achieved using the FireWorks package and is covered in the [ Running Jobflow with FireWorks tutorial](https://materialsproject.github.io/jobflow/tutorials/8-fireworks).</p>\n",
    "</div>\n"
   ]
  },
  {
   "cell_type": "code",
   "execution_count": 10,
   "id": "hydraulic-undergraduate",
   "metadata": {},
   "outputs": [
    {
     "name": "stdout",
     "output_type": "stream",
     "text": [
      "2023-06-08 10:05:39,732 INFO Started executing jobs locally\n",
      "2023-06-08 10:05:39,737 INFO Starting job - time_website (76f9fef1-e2c7-4ad7-b090-b9153866c582)\n",
      "2023-06-08 10:05:40,126 INFO Finished job - time_website (76f9fef1-e2c7-4ad7-b090-b9153866c582)\n",
      "2023-06-08 10:05:40,128 INFO Starting job - time_website (f658ee45-b6e8-4078-98fd-9ab33a0c5747)\n",
      "2023-06-08 10:05:40,306 INFO Finished job - time_website (f658ee45-b6e8-4078-98fd-9ab33a0c5747)\n",
      "2023-06-08 10:05:40,307 INFO Starting job - time_website (3cd950be-b7f6-4991-84a2-420593dbe75c)\n",
      "2023-06-08 10:05:40,792 INFO Finished job - time_website (3cd950be-b7f6-4991-84a2-420593dbe75c)\n",
      "2023-06-08 10:05:40,793 INFO Starting job - sum_numbers (11b7679d-9d07-45b0-8c7b-f0bf42527ef0)\n",
      "2023-06-08 10:05:40,798 INFO Finished job - sum_numbers (11b7679d-9d07-45b0-8c7b-f0bf42527ef0)\n",
      "2023-06-08 10:05:40,799 INFO Finished executing jobs locally\n"
     ]
    }
   ],
   "source": [
    "from jobflow.managers.local import run_locally\n",
    "\n",
    "responses = run_locally(flow, store=store)"
   ]
  },
  {
   "cell_type": "markdown",
   "id": "occasional-kentucky",
   "metadata": {},
   "source": [
    "Below is an annotated example of the log message:\n",
    "\n",
    "```\n",
    "2021-06-04 17:36:50,531 INFO Starting job - time_website (d5460743-bb88-4922-8306-0400eb419a91)\n",
    "                ↑                                 ↑                         ↑\n",
    "              time                             job name                  job uuid\n",
    "```\n",
    "\n",
    "The job uuid is a unique identifier that is assigned to the job when it is created. It is also used to track the job outputs.\n"
   ]
  },
  {
   "cell_type": "markdown",
   "id": "laden-career",
   "metadata": {},
   "source": [
    "## Examine Flow outputs\n"
   ]
  },
  {
   "cell_type": "markdown",
   "id": "f17a753f",
   "metadata": {},
   "source": [
    "The `run_locally` function returns the output of all jobs. The format of the output is:\n",
    "\n",
    "```python\n",
    "{\n",
    "    job_uuid: {\n",
    "        job_index: {\n",
    "            Response()\n",
    "        }\n",
    "    }\n",
    "}\n",
    "```\n",
    "\n",
    "The `job_index` and `Response()` objects are introduced in later tutorials. The main thing to know is that the Response contains the output of the Job and any other commands for controlling the Flow execution.\n"
   ]
  },
  {
   "cell_type": "code",
   "execution_count": 11,
   "id": "7027d21c",
   "metadata": {
    "collapsed": false,
    "jupyter": {
     "outputs_hidden": false
    }
   },
   "outputs": [
    {
     "data": {
      "text/plain": [
       "{'76f9fef1-e2c7-4ad7-b090-b9153866c582': {1: Response(output=0.07634975000000033, detour=None, addition=None, replace=None, stored_data=None, stop_children=False, stop_jobflow=False)},\n",
       " 'f658ee45-b6e8-4078-98fd-9ab33a0c5747': {1: Response(output=0.0056510840000001394, detour=None, addition=None, replace=None, stored_data=None, stop_children=False, stop_jobflow=False)},\n",
       " '3cd950be-b7f6-4991-84a2-420593dbe75c': {1: Response(output=0.15688537499999988, detour=None, addition=None, replace=None, stored_data=None, stop_children=False, stop_jobflow=False)},\n",
       " '11b7679d-9d07-45b0-8c7b-f0bf42527ef0': {1: Response(output=0.23888620900000035, detour=None, addition=None, replace=None, stored_data=None, stop_children=False, stop_jobflow=False)}}"
      ]
     },
     "execution_count": 11,
     "metadata": {},
     "output_type": "execute_result"
    }
   ],
   "source": [
    "responses"
   ]
  },
  {
   "cell_type": "markdown",
   "id": "6c8e49d3",
   "metadata": {},
   "source": [
    "We can check the output of specific jobs using:\n"
   ]
  },
  {
   "cell_type": "code",
   "execution_count": 12,
   "id": "c1dde836",
   "metadata": {
    "collapsed": false,
    "jupyter": {
     "outputs_hidden": false
    }
   },
   "outputs": [
    {
     "data": {
      "text/plain": [
       "0.07634975000000033"
      ]
     },
     "execution_count": 12,
     "metadata": {},
     "output_type": "execute_result"
    }
   ],
   "source": [
    "responses[time_github.uuid][1].output"
   ]
  },
  {
   "cell_type": "markdown",
   "id": "24dd5b88",
   "metadata": {},
   "source": [
    "In general, it is easier to examine the outputs a job using the `JobStore.get_output` function. This will query the database (in this case the `MemoryStore`) and return the output of the job. If using multiple stores, the relevant outputs will be automatically queried from the appropriate stores.\n",
    "\n",
    "Let's query the database for the output of the `time_github` job.\n"
   ]
  },
  {
   "cell_type": "code",
   "execution_count": 13,
   "id": "23fa6839",
   "metadata": {
    "collapsed": false,
    "jupyter": {
     "outputs_hidden": false
    }
   },
   "outputs": [
    {
     "data": {
      "text/plain": [
       "0.07634975000000033"
      ]
     },
     "execution_count": 13,
     "metadata": {},
     "output_type": "execute_result"
    }
   ],
   "source": [
    "store.get_output(time_github.uuid)"
   ]
  },
  {
   "cell_type": "markdown",
   "id": "ae70d9d2",
   "metadata": {},
   "source": [
    "## Next steps\n",
    "\n",
    "Now that you are more familiar jobflows, we encourage you to learn about all the different options jobflow provides for designing and running workflows. A good next step is the [Defining Jobs using jobflow tutorial](https://materialsproject.github.io/jobflow/tutorials/3-defining-jobs.html), which will cover the `Job` object and `job` decorator in more detail.\n"
   ]
  }
 ],
 "metadata": {
  "kernelspec": {
   "display_name": "atomate2",
   "language": "python",
   "name": "atomate2"
  },
  "language_info": {
   "codemirror_mode": {
    "name": "ipython",
    "version": 3
   },
   "file_extension": ".py",
   "mimetype": "text/x-python",
   "name": "python",
   "nbconvert_exporter": "python",
   "pygments_lexer": "ipython3",
   "version": "3.9.6"
  }
 },
 "nbformat": 4,
 "nbformat_minor": 5
}
