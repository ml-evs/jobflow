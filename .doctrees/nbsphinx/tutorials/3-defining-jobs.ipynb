{
 "cells": [
  {
   "attachments": {},
   "cell_type": "markdown",
   "id": "magnetic-cookie",
   "metadata": {},
   "source": [
    "# Defining jobs in jobflow\n",
    "\n",
    "In this tutorial, you will:\n",
    "\n",
    "- Learn about the `job` decorator.\n",
    "- Understand the structure of the `Job` object.\n",
    "- Set the configuration settings of a job.\n",
    "- Use the `Response` object.\n",
    "- Learn tips for writing job functions.\n",
    "\n",
    "The purpose of this tutorial is to delve into the basic functionality of jobs and gain a feeling for what is possible. Later tutorials will describe how to employ jobs in complex workflows.\n",
    "\n",
    "## Creating job objects\n",
    "\n",
    "The building block of jobflows are `Job` objects. Jobs are delayed calls to python functions whose outputs are stored in a database. The easiest way to create a job is using the `@job` decorator. The job decorator can be applied to any function, even those with optional parameters.\n"
   ]
  },
  {
   "cell_type": "code",
   "execution_count": 22,
   "id": "correct-torture",
   "metadata": {
    "nbsphinx": "hidden"
   },
   "outputs": [],
   "source": [
    "import warnings\n",
    "\n",
    "warnings.filterwarnings(\"ignore\", \"Using `tqdm.autonotebook.tqdm`\")"
   ]
  },
  {
   "cell_type": "code",
   "execution_count": 23,
   "id": "sweet-paragraph",
   "metadata": {},
   "outputs": [],
   "source": [
    "from jobflow import job\n",
    "\n",
    "\n",
    "@job\n",
    "def add(a, b, c=2):\n",
    "    return a + b + c"
   ]
  },
  {
   "attachments": {},
   "cell_type": "markdown",
   "id": "competitive-theorem",
   "metadata": {},
   "source": [
    "Any call to the `add` function will return a `Job` object.\n"
   ]
  },
  {
   "cell_type": "code",
   "execution_count": 24,
   "id": "beneficial-authentication",
   "metadata": {},
   "outputs": [],
   "source": [
    "add_first = add(1, 2, c=5)"
   ]
  },
  {
   "attachments": {},
   "cell_type": "markdown",
   "id": "necessary-skill",
   "metadata": {},
   "source": [
    "Each job is assigned a unique identifier (UUID).\n"
   ]
  },
  {
   "cell_type": "code",
   "execution_count": 25,
   "id": "rising-drama",
   "metadata": {},
   "outputs": [
    {
     "data": {
      "text/plain": [
       "'51d1b512-3b71-4bde-9b99-6965c42cacb0'"
      ]
     },
     "execution_count": 25,
     "metadata": {},
     "output_type": "execute_result"
    }
   ],
   "source": [
    "add_first.uuid"
   ]
  },
  {
   "attachments": {},
   "cell_type": "markdown",
   "id": "fatal-bible",
   "metadata": {},
   "source": [
    "Jobs also have an index. This tracks the number of times the job has been \"replaced\" (replacing is covered in detail in the [Dynamic and nested Flows tutorial](dynamic-flows)).\n"
   ]
  },
  {
   "cell_type": "code",
   "execution_count": 26,
   "id": "disabled-strategy",
   "metadata": {},
   "outputs": [
    {
     "data": {
      "text/plain": [
       "1"
      ]
     },
     "execution_count": 26,
     "metadata": {},
     "output_type": "execute_result"
    }
   ],
   "source": [
    "add_first.index"
   ]
  },
  {
   "attachments": {},
   "cell_type": "markdown",
   "id": "measured-communist",
   "metadata": {},
   "source": [
    "Jobs have outputs that can be accessed using the `output` attribute. As the job has not yet been executed, the output is currently a reference to the future output.\n"
   ]
  },
  {
   "cell_type": "code",
   "execution_count": 27,
   "id": "legendary-pursuit",
   "metadata": {},
   "outputs": [
    {
     "data": {
      "text/plain": [
       "OutputReference(51d1b512-3b71-4bde-9b99-6965c42cacb0)"
      ]
     },
     "execution_count": 27,
     "metadata": {},
     "output_type": "execute_result"
    }
   ],
   "source": [
    "add_first.output"
   ]
  },
  {
   "attachments": {},
   "cell_type": "markdown",
   "id": "exceptional-twelve",
   "metadata": {},
   "source": [
    "The output of a job can be used as the input to another job.\n"
   ]
  },
  {
   "cell_type": "code",
   "execution_count": 28,
   "id": "sustained-buddy",
   "metadata": {},
   "outputs": [],
   "source": [
    "add_second = add(add_first.output, 3)"
   ]
  },
  {
   "attachments": {},
   "cell_type": "markdown",
   "id": "remarkable-vocabulary",
   "metadata": {},
   "source": [
    "The output does not have to be an argument on its own, it can be included in a list or a dictionary.\n"
   ]
  },
  {
   "cell_type": "code",
   "execution_count": 29,
   "id": "conceptual-pipeline",
   "metadata": {},
   "outputs": [],
   "source": [
    "@job\n",
    "def sum_numbers(numbers):\n",
    "    return sum(numbers)\n",
    "\n",
    "\n",
    "sum_job = sum_numbers([add_first.output, add_second.output])"
   ]
  },
  {
   "attachments": {},
   "cell_type": "markdown",
   "id": "ce86ac6e",
   "metadata": {},
   "source": [
    "## Running Jobs\n"
   ]
  },
  {
   "attachments": {},
   "cell_type": "markdown",
   "id": "b2579acf",
   "metadata": {},
   "source": [
    "Here, we will demonstrate how to run a simple job locally, which can be useful for testing purposes.\n"
   ]
  },
  {
   "cell_type": "code",
   "execution_count": 30,
   "id": "312e5192",
   "metadata": {},
   "outputs": [
    {
     "name": "stdout",
     "output_type": "stream",
     "text": [
      "2023-06-07 23:15:00,614 INFO Started executing jobs locally\n",
      "2023-06-07 23:15:00,639 INFO Starting job - add (d717d41c-4cd1-412e-9e0e-fda378a8c553)\n",
      "2023-06-07 23:15:00,659 INFO Finished job - add (d717d41c-4cd1-412e-9e0e-fda378a8c553)\n",
      "2023-06-07 23:15:00,660 INFO Finished executing jobs locally\n"
     ]
    }
   ],
   "source": [
    "from jobflow.managers.local import run_locally\n",
    "\n",
    "response = run_locally(add(1,2))"
   ]
  },
  {
   "attachments": {},
   "cell_type": "markdown",
   "id": "ecf2e7be",
   "metadata": {},
   "source": [
    "The output contains a UUID for the `job` along with its outputs.\n"
   ]
  },
  {
   "cell_type": "code",
   "execution_count": 31,
   "id": "d4e23f3c",
   "metadata": {},
   "outputs": [
    {
     "name": "stdout",
     "output_type": "stream",
     "text": [
      "{'d717d41c-4cd1-412e-9e0e-fda378a8c553': {1: Response(output=5, detour=None, addition=None, replace=None, stored_data=None, stop_children=False, stop_jobflow=False)}}\n"
     ]
    }
   ],
   "source": [
    "print(response)"
   ]
  }
 ],
 "metadata": {
  "kernelspec": {
   "display_name": "cms",
   "language": "python",
   "name": "python3"
  },
  "language_info": {
   "codemirror_mode": {
    "name": "ipython",
    "version": 3
   },
   "file_extension": ".py",
   "mimetype": "text/x-python",
   "name": "python",
   "nbconvert_exporter": "python",
   "pygments_lexer": "ipython3",
   "version": "3.9.16"
  }
 },
 "nbformat": 4,
 "nbformat_minor": 5
}
