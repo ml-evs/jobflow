{
 "cells": [
  {
   "attachments": {},
   "cell_type": "markdown",
   "id": "1b3c4fe2",
   "metadata": {},
   "source": [
    "# Creating dynamic flows\n",
    "\n",
    "In this tutorial, you will:\n",
    "\n",
    "- Learn how to create dynamic workflows.\n",
    "- Understand the `detour`, `addition`, and `replace` options in the `Response` object.\n",
    "\n",
    "The ability create dynamic workflows (i.e. jobs or workflows that launch other jobs or workflows) is\n",
    "a particularly powerful usage pattern in Jobflow.\n"
   ]
  },
  {
   "attachments": {},
   "cell_type": "markdown",
   "id": "3aaaefe9",
   "metadata": {},
   "source": [
    "## The `Response(replace)` option\n"
   ]
  },
  {
   "attachments": {},
   "cell_type": "markdown",
   "id": "873b4b62",
   "metadata": {},
   "source": [
    "The main mechanism for creating dynamic jobs in Jobflow is through the `Response` object. We will demonstrate this below for a toy example where we:\n",
    "\n",
    "1. Generate a list of numbers whose length is only determined at runtime.\n",
    "2. Perform a toy operation on each number in the list.\n",
    "\n",
    "While this is a trivial example, a similar usage is common in computational materials science (e.g. you might perform a calculation on a bulk structure, carve all possible surface slabs, and then perform a calculation on each slab). What makes this dynamic is that the number of jobs is only determined at runtime.\n"
   ]
  },
  {
   "cell_type": "code",
   "execution_count": 32,
   "id": "78348798",
   "metadata": {},
   "outputs": [],
   "source": [
    "import warnings\n",
    "\n",
    "warnings.filterwarnings(\"ignore\", \"Using `tqdm.autonotebook.tqdm`\")"
   ]
  },
  {
   "cell_type": "code",
   "execution_count": 33,
   "id": "964a8c44",
   "metadata": {},
   "outputs": [
    {
     "name": "stdout",
     "output_type": "stream",
     "text": [
      "2023-06-07 23:00:08,664 INFO Started executing jobs locally\n",
      "2023-06-07 23:00:08,667 INFO Starting job - make_list (eb3de3d3-52e8-4628-b508-9d91176d7cf9)\n",
      "2023-06-07 23:00:08,671 INFO Finished job - make_list (eb3de3d3-52e8-4628-b508-9d91176d7cf9)\n",
      "2023-06-07 23:00:08,675 INFO Starting job - add_distributed (3b1b1784-d027-4fb5-a29c-47004876981a)\n",
      "2023-06-07 23:00:08,683 INFO Finished job - add_distributed (3b1b1784-d027-4fb5-a29c-47004876981a)\n",
      "2023-06-07 23:00:08,688 INFO Starting job - add (60b5a452-dbae-4f8b-a6f7-f6706151f7f2)\n",
      "2023-06-07 23:00:08,693 INFO Finished job - add (60b5a452-dbae-4f8b-a6f7-f6706151f7f2)\n",
      "2023-06-07 23:00:08,695 INFO Starting job - add (8cde4aba-9162-4ad6-96e9-a412544859b8)\n",
      "2023-06-07 23:00:08,700 INFO Finished job - add (8cde4aba-9162-4ad6-96e9-a412544859b8)\n",
      "2023-06-07 23:00:08,704 INFO Starting job - add (4b823573-7852-4bd7-b8ee-dc145401021f)\n",
      "2023-06-07 23:00:08,707 INFO Finished job - add (4b823573-7852-4bd7-b8ee-dc145401021f)\n",
      "2023-06-07 23:00:08,710 INFO Starting job - add (79fdde1c-1884-49a7-8ff2-d9ce449392b0)\n",
      "2023-06-07 23:00:08,714 INFO Finished job - add (79fdde1c-1884-49a7-8ff2-d9ce449392b0)\n",
      "2023-06-07 23:00:08,718 INFO Starting job - add (31f33238-61c7-4684-99df-46ff54cd6b48)\n",
      "2023-06-07 23:00:08,722 INFO Finished job - add (31f33238-61c7-4684-99df-46ff54cd6b48)\n",
      "2023-06-07 23:00:08,724 INFO Finished executing jobs locally\n"
     ]
    },
    {
     "name": "stderr",
     "output_type": "stream",
     "text": [
      "c:\\Users\\asros\\miniconda3\\envs\\cms\\lib\\site-packages\\jobflow\\utils\\graph.py:53: UserWarning: Some jobs are not connected, their ordering may be random\n",
      "  warnings.warn(\"Some jobs are not connected, their ordering may be random\")\n"
     ]
    }
   ],
   "source": [
    "from random import randint\n",
    "from jobflow import job, Flow, Response\n",
    "from jobflow.managers.local import run_locally\n",
    "\n",
    "@job\n",
    "def make_list(a):\n",
    "    return [a] * randint(2, 5)\n",
    "\n",
    "@job\n",
    "def add(a, b):\n",
    "    return a + b\n",
    "\n",
    "@job\n",
    "def add_distributed(list_a):\n",
    "    jobs = []\n",
    "    for val in list_a:\n",
    "        jobs.append(add(val, 1))\n",
    "    \n",
    "    flow = Flow(jobs)\n",
    "    return Response(replace=flow)\n",
    "\n",
    "job1 = make_list(2)\n",
    "job2 = add_distributed(job1.output)\n",
    "flow = Flow([job1, job2])\n",
    "\n",
    "responses = run_locally(flow)"
   ]
  },
  {
   "cell_type": "code",
   "execution_count": 34,
   "id": "82e368e6",
   "metadata": {},
   "outputs": [
    {
     "name": "stdout",
     "output_type": "stream",
     "text": [
      "eb3de3d3-52e8-4628-b508-9d91176d7cf9 -> {1: Response(output=[2, 2, 2, 2, 2], detour=None, addition=None, replace=None, stored_data=None, stop_children=False, stop_jobflow=False)}\n",
      "3b1b1784-d027-4fb5-a29c-47004876981a -> {1: Response(output=None, detour=None, addition=None, replace=<jobflow.core.flow.Flow object at 0x000001A3C9C7A5B0>, stored_data=None, stop_children=False, stop_jobflow=False)}\n",
      "60b5a452-dbae-4f8b-a6f7-f6706151f7f2 -> {1: Response(output=3, detour=None, addition=None, replace=None, stored_data=None, stop_children=False, stop_jobflow=False)}\n",
      "8cde4aba-9162-4ad6-96e9-a412544859b8 -> {1: Response(output=3, detour=None, addition=None, replace=None, stored_data=None, stop_children=False, stop_jobflow=False)}\n",
      "4b823573-7852-4bd7-b8ee-dc145401021f -> {1: Response(output=3, detour=None, addition=None, replace=None, stored_data=None, stop_children=False, stop_jobflow=False)}\n",
      "79fdde1c-1884-49a7-8ff2-d9ce449392b0 -> {1: Response(output=3, detour=None, addition=None, replace=None, stored_data=None, stop_children=False, stop_jobflow=False)}\n",
      "31f33238-61c7-4684-99df-46ff54cd6b48 -> {1: Response(output=3, detour=None, addition=None, replace=None, stored_data=None, stop_children=False, stop_jobflow=False)}\n"
     ]
    }
   ],
   "source": [
    "for uuid, response in responses.items():\n",
    "    print(f\"{uuid} -> {response}\")"
   ]
  },
  {
   "attachments": {},
   "cell_type": "markdown",
   "id": "dfeab63a",
   "metadata": {},
   "source": [
    "As sene above, there are several jobs that were run --- certainly more than the two we started with. The first job generates a list of 2's with a random length. The second job in the flow is what launches a job on each entry in the list. It is replaced by one job for each entry, hence it has no direct output. Then each newly generated job is run.\n"
   ]
  },
  {
   "attachments": {},
   "cell_type": "markdown",
   "id": "98052193",
   "metadata": {},
   "source": [
    "## The `Response(addition)` option\n"
   ]
  },
  {
   "attachments": {},
   "cell_type": "markdown",
   "id": "e7d78588",
   "metadata": {},
   "source": [
    "Beyond replacing a job with downstream jobs, there is also the option to add jobs to the current flow on-the-fly.\n",
    "\n",
    "Here we will create a simple flow that:\n",
    "\n",
    "1. Adds a value to a given number.\n",
    "2. If the output is less than 10, do the addition again. Otherwise, stop.\n"
   ]
  },
  {
   "cell_type": "code",
   "execution_count": 35,
   "id": "81870e55",
   "metadata": {},
   "outputs": [
    {
     "name": "stdout",
     "output_type": "stream",
     "text": [
      "2023-06-07 23:00:08,875 INFO Started executing jobs locally\n",
      "2023-06-07 23:00:08,878 INFO Starting job - add (33dea617-3a80-4c71-b8c7-76d44d758e97)\n",
      "2023-06-07 23:00:08,881 INFO Finished job - add (33dea617-3a80-4c71-b8c7-76d44d758e97)\n",
      "2023-06-07 23:00:08,883 INFO Starting job - add_with_logic (97fd505e-f6a1-4a37-b5e1-33858ae77020)\n",
      "2023-06-07 23:00:08,887 INFO Finished job - add_with_logic (97fd505e-f6a1-4a37-b5e1-33858ae77020)\n",
      "2023-06-07 23:00:08,888 INFO Starting job - add (b4fe3128-09a9-4827-b9ee-5b8ef73f123f)\n",
      "2023-06-07 23:00:08,889 INFO Finished job - add (b4fe3128-09a9-4827-b9ee-5b8ef73f123f)\n",
      "2023-06-07 23:00:08,891 INFO Finished executing jobs locally\n"
     ]
    }
   ],
   "source": [
    "@job\n",
    "def add(a, b):\n",
    "    return a + b\n",
    "\n",
    "@job\n",
    "def add_with_logic(a, b):\n",
    "    if a < 10:\n",
    "        return Response(addition=add(a, b))\n",
    "    \n",
    "job1 = add(1, 2)\n",
    "job2 = add_with_logic(job1.output, 2)\n",
    "flow = Flow([job1, job2])\n",
    "\n",
    "responses = run_locally(flow)"
   ]
  },
  {
   "cell_type": "code",
   "execution_count": 36,
   "id": "fdc68eb5",
   "metadata": {},
   "outputs": [
    {
     "name": "stdout",
     "output_type": "stream",
     "text": [
      "33dea617-3a80-4c71-b8c7-76d44d758e97 -> {1: Response(output=3, detour=None, addition=None, replace=None, stored_data=None, stop_children=False, stop_jobflow=False)}\n",
      "97fd505e-f6a1-4a37-b5e1-33858ae77020 -> {1: Response(output=None, detour=None, addition=<jobflow.core.flow.Flow object at 0x000001A3C9FFCC10>, replace=None, stored_data=None, stop_children=False, stop_jobflow=False)}\n",
      "b4fe3128-09a9-4827-b9ee-5b8ef73f123f -> {1: Response(output=5, detour=None, addition=None, replace=None, stored_data=None, stop_children=False, stop_jobflow=False)}\n"
     ]
    }
   ],
   "source": [
    "for uuid, response in responses.items():\n",
    "    print(f\"{uuid} -> {response}\")"
   ]
  },
  {
   "attachments": {},
   "cell_type": "markdown",
   "id": "997dd2a9",
   "metadata": {},
   "source": [
    "As you can see above, the addition job is correctly run twice. Now let's confirm that the addition job is only run once if the output of the first job is greater than 10.\n"
   ]
  },
  {
   "cell_type": "code",
   "execution_count": 37,
   "id": "27569bd7",
   "metadata": {},
   "outputs": [
    {
     "name": "stdout",
     "output_type": "stream",
     "text": [
      "2023-06-07 23:00:09,079 INFO Started executing jobs locally\n",
      "2023-06-07 23:00:09,081 INFO Starting job - add (0bfd030e-6caa-4b47-a6eb-9b0873044a61)\n",
      "2023-06-07 23:00:09,083 INFO Finished job - add (0bfd030e-6caa-4b47-a6eb-9b0873044a61)\n",
      "2023-06-07 23:00:09,085 INFO Starting job - add_with_logic (6c676626-595c-4cbb-82d2-71827e0bdfea)\n",
      "2023-06-07 23:00:09,088 INFO Finished job - add_with_logic (6c676626-595c-4cbb-82d2-71827e0bdfea)\n",
      "2023-06-07 23:00:09,091 INFO Finished executing jobs locally\n"
     ]
    }
   ],
   "source": [
    "@job\n",
    "def add(a, b):\n",
    "    return a + b\n",
    "\n",
    "@job\n",
    "def add_with_logic(a, b):\n",
    "    if a < 10:\n",
    "        return Response(addition=add(a, b))\n",
    "    \n",
    "job1 = add(1, 20)\n",
    "job2 = add_with_logic(job1.output, 20)\n",
    "flow = Flow([job1, job2])\n",
    "\n",
    "responses = run_locally(flow)"
   ]
  },
  {
   "cell_type": "code",
   "execution_count": 38,
   "id": "b8d0c011",
   "metadata": {},
   "outputs": [
    {
     "name": "stdout",
     "output_type": "stream",
     "text": [
      "0bfd030e-6caa-4b47-a6eb-9b0873044a61 -> {1: Response(output=21, detour=None, addition=None, replace=None, stored_data=None, stop_children=False, stop_jobflow=False)}\n",
      "6c676626-595c-4cbb-82d2-71827e0bdfea -> {1: Response(output=None, detour=None, addition=None, replace=None, stored_data=None, stop_children=False, stop_jobflow=False)}\n"
     ]
    }
   ],
   "source": [
    "for uuid, response in responses.items():\n",
    "    print(f\"{uuid} -> {response}\")"
   ]
  },
  {
   "attachments": {},
   "cell_type": "markdown",
   "id": "49de1eae",
   "metadata": {},
   "source": [
    "Now, we see that the `Response(addition)` does not launch a new job.\n"
   ]
  },
  {
   "attachments": {},
   "cell_type": "markdown",
   "id": "5c0122e3",
   "metadata": {},
   "source": [
    "## The `Response(detour)` option\n"
   ]
  },
  {
   "attachments": {},
   "cell_type": "markdown",
   "id": "eca49a8b",
   "metadata": {},
   "source": [
    "The `Response(detour)` option behaves similarly to `Response(addition)`. The difference is that `Response(addition)` will add a job (or flow) to the current flow, while `Response(detour)` will no longer run the current flow and will switch to a parallel job or flow.\n"
   ]
  },
  {
   "cell_type": "code",
   "execution_count": 39,
   "id": "fee35a97",
   "metadata": {},
   "outputs": [
    {
     "name": "stdout",
     "output_type": "stream",
     "text": [
      "2023-06-07 23:00:09,220 INFO Started executing jobs locally\n",
      "2023-06-07 23:00:09,221 INFO Starting job - add (d7ac181e-8f9c-4383-a3a9-6559f9b37315)\n",
      "2023-06-07 23:00:09,223 INFO Finished job - add (d7ac181e-8f9c-4383-a3a9-6559f9b37315)\n",
      "2023-06-07 23:00:09,223 INFO Starting job - add_with_logic (f560ae22-82c2-425c-b67f-36b27c83373c)\n",
      "2023-06-07 23:00:09,226 INFO Finished job - add_with_logic (f560ae22-82c2-425c-b67f-36b27c83373c)\n",
      "2023-06-07 23:00:09,228 INFO Starting job - add (19823318-ec29-4ed4-9ef9-896bab616801)\n",
      "2023-06-07 23:00:09,230 INFO Finished job - add (19823318-ec29-4ed4-9ef9-896bab616801)\n",
      "2023-06-07 23:00:09,231 INFO Finished executing jobs locally\n"
     ]
    }
   ],
   "source": [
    "@job\n",
    "def add(a, b):\n",
    "    return a + b\n",
    "\n",
    "@job\n",
    "def add_with_logic(a, b):\n",
    "    if a < 10:\n",
    "        return Response(detour=add(a, b))\n",
    "    \n",
    "job1 = add(1, 2)\n",
    "job2 = add_with_logic(job1.output, 2)\n",
    "flow = Flow([job1, job2])\n",
    "\n",
    "responses = run_locally(flow)"
   ]
  },
  {
   "cell_type": "code",
   "execution_count": 40,
   "id": "b3b7e8ba",
   "metadata": {},
   "outputs": [
    {
     "name": "stdout",
     "output_type": "stream",
     "text": [
      "d7ac181e-8f9c-4383-a3a9-6559f9b37315 -> {1: Response(output=3, detour=None, addition=None, replace=None, stored_data=None, stop_children=False, stop_jobflow=False)}\n",
      "f560ae22-82c2-425c-b67f-36b27c83373c -> {1: Response(output=None, detour=<jobflow.core.flow.Flow object at 0x000001A3C9FEE5B0>, addition=None, replace=None, stored_data=None, stop_children=False, stop_jobflow=False)}\n",
      "19823318-ec29-4ed4-9ef9-896bab616801 -> {1: Response(output=5, detour=None, addition=None, replace=None, stored_data=None, stop_children=False, stop_jobflow=False)}\n"
     ]
    }
   ],
   "source": [
    "\n"
   ]
  },
  {
   "attachments": {},
   "cell_type": "markdown",
   "id": "69783c7e",
   "metadata": {},
   "source": [
    "For this toy example, both `Response(addition)` and `Response(detour)` behave identically.\n"
   ]
  }
 ],
 "metadata": {
  "kernelspec": {
   "display_name": "cms",
   "language": "python",
   "name": "python3"
  },
  "language_info": {
   "codemirror_mode": {
    "name": "ipython",
    "version": 3
   },
   "file_extension": ".py",
   "mimetype": "text/x-python",
   "name": "python",
   "nbconvert_exporter": "python",
   "pygments_lexer": "ipython3",
   "version": "3.9.16"
  }
 },
 "nbformat": 4,
 "nbformat_minor": 5
}
