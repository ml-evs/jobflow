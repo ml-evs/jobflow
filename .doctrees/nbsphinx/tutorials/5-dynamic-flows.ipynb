{
 "cells": [
  {
   "cell_type": "markdown",
   "id": "1b3c4fe2",
   "metadata": {},
   "source": [
    "# Creating dynamic flows\n",
    "\n",
    "In this tutorial, you will:\n",
    "\n",
    "- Learn how to create dynamic workflows.\n",
    "- Understand the `detour`, `addition`, and `replace` options in the `Response` object.\n",
    "\n",
    "The ability create dynamic workflows (i.e. jobs or workflows that launch other jobs or workflows) is\n",
    "a particularly powerful usage pattern in Jobflow.\n"
   ]
  },
  {
   "cell_type": "markdown",
   "id": "3aaaefe9",
   "metadata": {},
   "source": [
    "## The `Response(replace)` option\n"
   ]
  },
  {
   "cell_type": "markdown",
   "id": "873b4b62",
   "metadata": {},
   "source": [
    "The main mechanism for creating dynamic jobs in Jobflow is through the `Response` object. We will demonstrate this below for a toy example where we:\n",
    "\n",
    "1. Generate a list of numbers whose length is only determined at runtime.\n",
    "2. Perform a toy operation on each number in the list.\n",
    "\n",
    "While this is a trivial example, a similar usage is common in computational materials science (e.g. you might perform a calculation on a bulk structure, carve all possible surface slabs, and then perform a calculation on each slab). What makes this dynamic is that the number of jobs is only determined at runtime.\n"
   ]
  },
  {
   "cell_type": "code",
   "execution_count": 1,
   "id": "78348798",
   "metadata": {
    "nbsphinx": "hidden",
    "tags": []
   },
   "outputs": [],
   "source": [
    "import warnings\n",
    "\n",
    "warnings.filterwarnings(\"ignore\", \"Using `tqdm.autonotebook.tqdm`\")"
   ]
  },
  {
   "cell_type": "code",
   "execution_count": 2,
   "id": "964a8c44",
   "metadata": {},
   "outputs": [
    {
     "name": "stdout",
     "output_type": "stream",
     "text": [
      "2023-06-08 09:55:05,762 INFO Started executing jobs locally\n",
      "2023-06-08 09:55:05,873 INFO Starting job - make_list (68b72ca9-00ae-430f-a61c-fbea22bbf0aa)\n",
      "2023-06-08 09:55:05,874 INFO Finished job - make_list (68b72ca9-00ae-430f-a61c-fbea22bbf0aa)\n",
      "2023-06-08 09:55:05,874 INFO Starting job - add_distributed (01821a62-3ee2-47f0-a6ca-fd373ea0ea09)\n",
      "2023-06-08 09:55:05,875 INFO Finished job - add_distributed (01821a62-3ee2-47f0-a6ca-fd373ea0ea09)\n",
      "2023-06-08 09:55:05,876 INFO Starting job - add (fbc49130-2bbe-49b0-a190-48815c03a0b0)\n",
      "2023-06-08 09:55:05,876 INFO Finished job - add (fbc49130-2bbe-49b0-a190-48815c03a0b0)\n",
      "2023-06-08 09:55:05,877 INFO Starting job - add (ca3636e3-50f7-4ec8-a5e7-66bc4e14b901)\n",
      "2023-06-08 09:55:05,877 INFO Finished job - add (ca3636e3-50f7-4ec8-a5e7-66bc4e14b901)\n",
      "2023-06-08 09:55:05,877 INFO Starting job - add (28dbe7c4-b29b-46c4-9d0c-2aee7334b999)\n",
      "2023-06-08 09:55:05,878 INFO Finished job - add (28dbe7c4-b29b-46c4-9d0c-2aee7334b999)\n",
      "2023-06-08 09:55:05,878 INFO Starting job - add (1bffefd1-4edc-43d5-b99f-b0833fca2b8d)\n",
      "2023-06-08 09:55:05,879 INFO Finished job - add (1bffefd1-4edc-43d5-b99f-b0833fca2b8d)\n",
      "2023-06-08 09:55:05,879 INFO Finished executing jobs locally\n"
     ]
    },
    {
     "name": "stderr",
     "output_type": "stream",
     "text": [
      "/Users/alexmganose/dev/src/jobflow/src/jobflow/utils/graph.py:53: UserWarning: Some jobs are not connected, their ordering may be random\n",
      "  warnings.warn(\"Some jobs are not connected, their ordering may be random\")\n"
     ]
    }
   ],
   "source": [
    "from random import randint\n",
    "from jobflow import job, Flow, Response\n",
    "from jobflow.managers.local import run_locally\n",
    "\n",
    "@job\n",
    "def make_list(a):\n",
    "    return [a] * randint(2, 5)\n",
    "\n",
    "@job\n",
    "def add(a, b):\n",
    "    return a + b\n",
    "\n",
    "@job\n",
    "def add_distributed(list_a):\n",
    "    jobs = []\n",
    "    for val in list_a:\n",
    "        jobs.append(add(val, 1))\n",
    "    \n",
    "    flow = Flow(jobs)\n",
    "    return Response(replace=flow)\n",
    "\n",
    "job1 = make_list(2)\n",
    "job2 = add_distributed(job1.output)\n",
    "flow = Flow([job1, job2])\n",
    "\n",
    "responses = run_locally(flow)"
   ]
  },
  {
   "cell_type": "code",
   "execution_count": 3,
   "id": "82e368e6",
   "metadata": {},
   "outputs": [
    {
     "name": "stdout",
     "output_type": "stream",
     "text": [
      "68b72ca9-00ae-430f-a61c-fbea22bbf0aa -> {1: Response(output=[2, 2, 2, 2], detour=None, addition=None, replace=None, stored_data=None, stop_children=False, stop_jobflow=False)}\n",
      "01821a62-3ee2-47f0-a6ca-fd373ea0ea09 -> {1: Response(output=None, detour=None, addition=None, replace=<jobflow.core.flow.Flow object at 0x122284cd0>, stored_data=None, stop_children=False, stop_jobflow=False)}\n",
      "fbc49130-2bbe-49b0-a190-48815c03a0b0 -> {1: Response(output=3, detour=None, addition=None, replace=None, stored_data=None, stop_children=False, stop_jobflow=False)}\n",
      "ca3636e3-50f7-4ec8-a5e7-66bc4e14b901 -> {1: Response(output=3, detour=None, addition=None, replace=None, stored_data=None, stop_children=False, stop_jobflow=False)}\n",
      "28dbe7c4-b29b-46c4-9d0c-2aee7334b999 -> {1: Response(output=3, detour=None, addition=None, replace=None, stored_data=None, stop_children=False, stop_jobflow=False)}\n",
      "1bffefd1-4edc-43d5-b99f-b0833fca2b8d -> {1: Response(output=3, detour=None, addition=None, replace=None, stored_data=None, stop_children=False, stop_jobflow=False)}\n"
     ]
    }
   ],
   "source": [
    "for uuid, response in responses.items():\n",
    "    print(f\"{uuid} -> {response}\")"
   ]
  },
  {
   "cell_type": "markdown",
   "id": "dfeab63a",
   "metadata": {},
   "source": [
    "As seen above, there are several jobs that were run --- certainly more than the two we started with. The first job generates a list of 2's with a random length. The second job in the flow is what launches a job on each entry in the list. It is replaced by one job for each entry, hence it has no direct output. Then each newly generated job is run.\n"
   ]
  },
  {
   "cell_type": "markdown",
   "id": "98052193",
   "metadata": {},
   "source": [
    "## The `Response(addition)` option\n"
   ]
  },
  {
   "cell_type": "markdown",
   "id": "e7d78588",
   "metadata": {},
   "source": [
    "Beyond replacing a job with downstream jobs, there is also the option to add jobs to the current flow on-the-fly.\n",
    "\n",
    "Here we will create a simple flow that:\n",
    "\n",
    "1. Adds a value to a given number.\n",
    "2. If the output is less than 10, do the addition again. Otherwise, stop.\n"
   ]
  },
  {
   "cell_type": "code",
   "execution_count": 4,
   "id": "81870e55",
   "metadata": {},
   "outputs": [
    {
     "name": "stdout",
     "output_type": "stream",
     "text": [
      "2023-06-08 09:55:07,374 INFO Started executing jobs locally\n",
      "2023-06-08 09:55:07,377 INFO Starting job - add (8270f7cc-e12a-457b-adca-a196ee62ae85)\n",
      "2023-06-08 09:55:07,379 INFO Finished job - add (8270f7cc-e12a-457b-adca-a196ee62ae85)\n",
      "2023-06-08 09:55:07,380 INFO Starting job - add_with_logic (fd549146-aabb-4e4b-b79a-ca6b6fd2c172)\n",
      "2023-06-08 09:55:07,382 INFO Finished job - add_with_logic (fd549146-aabb-4e4b-b79a-ca6b6fd2c172)\n",
      "2023-06-08 09:55:07,384 INFO Starting job - add (9db2454f-4f1d-4d08-8497-1239cad74d0c)\n",
      "2023-06-08 09:55:07,384 INFO Finished job - add (9db2454f-4f1d-4d08-8497-1239cad74d0c)\n",
      "2023-06-08 09:55:07,385 INFO Finished executing jobs locally\n"
     ]
    }
   ],
   "source": [
    "@job\n",
    "def add(a, b):\n",
    "    return a + b\n",
    "\n",
    "@job\n",
    "def add_with_logic(a, b):\n",
    "    if a < 10:\n",
    "        return Response(addition=add(a, b))\n",
    "    \n",
    "job1 = add(1, 2)\n",
    "job2 = add_with_logic(job1.output, 2)\n",
    "flow = Flow([job1, job2])\n",
    "\n",
    "responses = run_locally(flow)"
   ]
  },
  {
   "cell_type": "code",
   "execution_count": 5,
   "id": "fdc68eb5",
   "metadata": {},
   "outputs": [
    {
     "name": "stdout",
     "output_type": "stream",
     "text": [
      "8270f7cc-e12a-457b-adca-a196ee62ae85 -> {1: Response(output=3, detour=None, addition=None, replace=None, stored_data=None, stop_children=False, stop_jobflow=False)}\n",
      "fd549146-aabb-4e4b-b79a-ca6b6fd2c172 -> {1: Response(output=None, detour=None, addition=<jobflow.core.flow.Flow object at 0x12229b0d0>, replace=None, stored_data=None, stop_children=False, stop_jobflow=False)}\n",
      "9db2454f-4f1d-4d08-8497-1239cad74d0c -> {1: Response(output=5, detour=None, addition=None, replace=None, stored_data=None, stop_children=False, stop_jobflow=False)}\n"
     ]
    }
   ],
   "source": [
    "for uuid, response in responses.items():\n",
    "    print(f\"{uuid} -> {response}\")"
   ]
  },
  {
   "cell_type": "markdown",
   "id": "997dd2a9",
   "metadata": {},
   "source": [
    "As you can see above, the addition job is correctly run twice. Now let's confirm that the addition job is only run once if the output of the first job is greater than 10.\n"
   ]
  },
  {
   "cell_type": "code",
   "execution_count": 6,
   "id": "27569bd7",
   "metadata": {},
   "outputs": [
    {
     "name": "stdout",
     "output_type": "stream",
     "text": [
      "2023-06-08 09:55:08,838 INFO Started executing jobs locally\n",
      "2023-06-08 09:55:08,841 INFO Starting job - add (ec551667-1500-45cc-b61a-2361a18b99fd)\n",
      "2023-06-08 09:55:08,843 INFO Finished job - add (ec551667-1500-45cc-b61a-2361a18b99fd)\n",
      "2023-06-08 09:55:08,843 INFO Starting job - add_with_logic (e7d3fb53-fa56-45bd-9951-45b70028ada7)\n",
      "2023-06-08 09:55:08,846 INFO Finished job - add_with_logic (e7d3fb53-fa56-45bd-9951-45b70028ada7)\n",
      "2023-06-08 09:55:08,847 INFO Finished executing jobs locally\n"
     ]
    }
   ],
   "source": [
    "@job\n",
    "def add(a, b):\n",
    "    return a + b\n",
    "\n",
    "@job\n",
    "def add_with_logic(a, b):\n",
    "    if a < 10:\n",
    "        return Response(addition=add(a, b))\n",
    "    \n",
    "job1 = add(1, 20)\n",
    "job2 = add_with_logic(job1.output, 20)\n",
    "flow = Flow([job1, job2])\n",
    "\n",
    "responses = run_locally(flow)"
   ]
  },
  {
   "cell_type": "code",
   "execution_count": 7,
   "id": "b8d0c011",
   "metadata": {},
   "outputs": [
    {
     "name": "stdout",
     "output_type": "stream",
     "text": [
      "ec551667-1500-45cc-b61a-2361a18b99fd -> {1: Response(output=21, detour=None, addition=None, replace=None, stored_data=None, stop_children=False, stop_jobflow=False)}\n",
      "e7d3fb53-fa56-45bd-9951-45b70028ada7 -> {1: Response(output=None, detour=None, addition=None, replace=None, stored_data=None, stop_children=False, stop_jobflow=False)}\n"
     ]
    }
   ],
   "source": [
    "for uuid, response in responses.items():\n",
    "    print(f\"{uuid} -> {response}\")"
   ]
  },
  {
   "cell_type": "markdown",
   "id": "49de1eae",
   "metadata": {},
   "source": [
    "Now, we see that the `Response(addition)` does not launch a new job.\n"
   ]
  },
  {
   "cell_type": "markdown",
   "id": "5c0122e3",
   "metadata": {},
   "source": [
    "## The `Response(detour)` option\n"
   ]
  },
  {
   "cell_type": "markdown",
   "id": "eca49a8b",
   "metadata": {},
   "source": [
    "The `Response(detour)` option behaves similarly to `Response(addition)`. The difference is that `Response(addition)` will add a job (or flow) to the current flow, while `Response(detour)` will no longer run the current flow and will switch to a parallel job or flow.\n"
   ]
  },
  {
   "cell_type": "code",
   "execution_count": 8,
   "id": "fee35a97",
   "metadata": {},
   "outputs": [
    {
     "name": "stdout",
     "output_type": "stream",
     "text": [
      "2023-06-08 09:55:10,850 INFO Started executing jobs locally\n",
      "2023-06-08 09:55:10,853 INFO Starting job - add (d5020d71-4bbc-4307-8fa5-c65d0d9b9b9a)\n",
      "2023-06-08 09:55:10,855 INFO Finished job - add (d5020d71-4bbc-4307-8fa5-c65d0d9b9b9a)\n",
      "2023-06-08 09:55:10,856 INFO Starting job - add_with_logic (8786b3c4-5697-4ed8-9f46-fd0c89e4c374)\n",
      "2023-06-08 09:55:10,858 INFO Finished job - add_with_logic (8786b3c4-5697-4ed8-9f46-fd0c89e4c374)\n",
      "2023-06-08 09:55:10,859 INFO Starting job - add (c33d72c2-f396-4f2c-898e-c667c0913dcb)\n",
      "2023-06-08 09:55:10,859 INFO Finished job - add (c33d72c2-f396-4f2c-898e-c667c0913dcb)\n",
      "2023-06-08 09:55:10,860 INFO Finished executing jobs locally\n"
     ]
    }
   ],
   "source": [
    "@job\n",
    "def add(a, b):\n",
    "    return a + b\n",
    "\n",
    "@job\n",
    "def add_with_logic(a, b):\n",
    "    if a < 10:\n",
    "        return Response(detour=add(a, b))\n",
    "    \n",
    "job1 = add(1, 2)\n",
    "job2 = add_with_logic(job1.output, 2)\n",
    "flow = Flow([job1, job2])\n",
    "\n",
    "responses = run_locally(flow)"
   ]
  },
  {
   "cell_type": "code",
   "execution_count": 9,
   "id": "b3b7e8ba",
   "metadata": {},
   "outputs": [
    {
     "data": {
      "text/plain": [
       "{'d5020d71-4bbc-4307-8fa5-c65d0d9b9b9a': {1: Response(output=3, detour=None, addition=None, replace=None, stored_data=None, stop_children=False, stop_jobflow=False)},\n",
       " '8786b3c4-5697-4ed8-9f46-fd0c89e4c374': {1: Response(output=None, detour=<jobflow.core.flow.Flow object at 0x12229bc70>, addition=None, replace=None, stored_data=None, stop_children=False, stop_jobflow=False)},\n",
       " 'c33d72c2-f396-4f2c-898e-c667c0913dcb': {1: Response(output=5, detour=None, addition=None, replace=None, stored_data=None, stop_children=False, stop_jobflow=False)}}"
      ]
     },
     "execution_count": 9,
     "metadata": {},
     "output_type": "execute_result"
    }
   ],
   "source": [
    "responses"
   ]
  },
  {
   "cell_type": "markdown",
   "id": "69783c7e",
   "metadata": {},
   "source": [
    "For this toy example, both `Response(addition)` and `Response(detour)` behave identically.\n"
   ]
  }
 ],
 "metadata": {
  "kernelspec": {
   "display_name": "atomate2",
   "language": "python",
   "name": "atomate2"
  },
  "language_info": {
   "codemirror_mode": {
    "name": "ipython",
    "version": 3
   },
   "file_extension": ".py",
   "mimetype": "text/x-python",
   "name": "python",
   "nbconvert_exporter": "python",
   "pygments_lexer": "ipython3",
   "version": "3.9.6"
  }
 },
 "nbformat": 4,
 "nbformat_minor": 5
}
